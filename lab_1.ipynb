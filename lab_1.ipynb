{
 "cells": [
  {
   "cell_type": "markdown",
   "id": "56af9ea8",
   "metadata": {},
   "source": [
    "# Постановка задачи\n",
    "\n",
    "Решить задачу Коши для обыкновенного дифференциального уравнения первого порядка на отрезке $[a, b]$ с шагом $0.05$  явным и неявным методами трапеций, явным методом Рунге-Кутты 4-го порядка и явно-неявным методом Адамса 4-го порядка. \n",
    "\n",
    "Оценить погрешность численного решения с использованием правила Рунге (для одношаговых методов) и путем сравнения с точным решением $u(t)$.\n",
    "\n",
    "В одной системе координат построить график функции $u(t)$ и график одного из полученных численных решений.\n",
    "\n",
    "### Задача Коши\n",
    "$$u'= \\frac{u^2 + ut}{t^2},\\ \\ \\ t \\in [1, 2],\\ \\ \\ u_0=u(1)=0.5$$\n",
    "\n",
    "### Точное решение\n",
    "$$u(t)=\\frac{t}{2-ln(t)}$$"
   ]
  },
  {
   "cell_type": "code",
   "execution_count": 1,
   "id": "ae474763",
   "metadata": {},
   "outputs": [],
   "source": [
    "import math\n",
    "\n",
    "\n",
    "def f(t, y):\n",
    "    return (y ** 2 + y * t) / t ** 2\n",
    "\n",
    "\n",
    "def correct_solution(t):\n",
    "    return t / (2 - math.log(t))"
   ]
  },
  {
   "cell_type": "markdown",
   "id": "6650c92c",
   "metadata": {},
   "source": [
    "<hr>\n",
    "\n",
    "# Краткая теория, реализация методов\n",
    "\n",
    "### Явный метод трапеций\n",
    "$(j+1)$-ое приближение функции методом трапеций находится из системы:\n",
    "\n",
    "\n",
    "\\begin{cases}\n",
    "y_{j+1}=y_j+\\frac{\\tau}{2} \\cdot (f(t_j, y_j) + f(t_{j+1}, y_{j+1}))\\\\\n",
    "y_0 = u_0\n",
    "\\end{cases}\n",
    "\n",
    "Чтобы метод трапеций был <b>явным</b>, $y_{j+1}$ в правой части равенства следует найти явным методом Эйлера. $(j+1)$-ое приближение функции явным методом Эйлера находится из системы:\n",
    "\n",
    "\n",
    "\\begin{cases}\n",
    "   y_{j+1}=y_j+\\tau \\cdot f(t_j, y_j)\\\\\n",
    "   y_0 = u_0\n",
    "\\end{cases}\n",
    "\n",
    "\n"
   ]
  },
  {
   "cell_type": "code",
   "execution_count": 2,
   "id": "f272aeed",
   "metadata": {
    "scrolled": true
   },
   "outputs": [],
   "source": [
    "def explicit_euler_method(t_j, y_j, tau, right_border):\n",
    "    \"\"\"Реализация явного метода Эйлера\"\"\"\n",
    "    while t_j <= right_border:\n",
    "        y_j += tau * f(t_j, y_j)\n",
    "        t_j += tau\n",
    "        yield t_j, y_j\n",
    "\n",
    "\n",
    "def explicit_trapezium_method(t_j, y_j, tau, right_border):\n",
    "    \"\"\"Реализация явного метода трапеций\"\"\"\n",
    "    for t_j, y_euler in explicit_euler_method(t_j, y_j, tau, right_border):\n",
    "        y_j += tau * (f(t_j, y_j) + f(t_j + tau, y_euler)) / 2\n",
    "        yield y_j\n"
   ]
  },
  {
   "cell_type": "markdown",
   "id": "b6354d4a",
   "metadata": {},
   "source": [
    "### Неявный метод трапеций\n",
    "\n",
    "Чтобы метод трапеций был <b>неявным</b>, $y_{j+1}$ в правой части равенства можно найти, решив нелинейное уравнение с помощью метода Ньютона. Он заключается в следующем:\n",
    "$$g(x) = 0$$\n",
    "\n",
    "$$x^{(n + 1)}=x^{(n)} - \\frac{g(x^{(n)})}{g'(x^{(n)})},\\ где\\ n - номер\\ итерации$$\n",
    "\n",
    "В нашем случае получаем:\n",
    "$$g(y_{j+1}) = y_{j + 1} - y_{j} - \\frac{\\tau}{2} \\cdot \\big(f(t_{j}, y_{j}) + f(t_{j + 1}, y_{j + 1})\\big) = 0$$\n",
    "\n",
    "$$g'(y_{j + 1}) = 1 - \\frac{\\tau}{2} \\cdot \\Bigg(\\frac{2y}{t^2} + \\frac{1}{t}\\Bigg)$$\n",
    "\n",
    "$$y^{(n + 1)}_{j+1} = y^{(n)}_{j+1} - \\frac{g(y^{(n)}_{j+1})}{g'(y^{(n)}_{j+1})}$$\n",
    "\n",
    "Возьмём $\\varepsilon = 10^{-3}$. Итерационный процесс будем продолжать до тех пор, пока \n",
    "\n",
    "$$|y^{(n + 1)}_{j + 1} - y^{(n)}_{j + 1}| \\ge \\varepsilon$$"
   ]
  },
  {
   "cell_type": "code",
   "execution_count": 3,
   "id": "a29dc652",
   "metadata": {},
   "outputs": [],
   "source": [
    "def g(t_j, y_j, y_n, tau):\n",
    "    return y_n - y_j - (tau * (f(t_j, y_j) + f(t_j + tau, y_n))) / 2\n",
    "\n",
    "\n",
    "def derivative(t, y, tau):\n",
    "    \"\"\"g'(y)\"\"\"\n",
    "    return 1 - (tau * ((2 * y / t ** 2) + 1 / t)) / 2\n",
    "\n",
    "\n",
    "def newton_method(t_j, y_j, tau):\n",
    "    \"\"\"Реализация метода Ньютона\"\"\"\n",
    "    eps = 10e-3\n",
    "    y = y_j\n",
    "    while True:\n",
    "        y_prev = y\n",
    "        y -= (g(t_j, y_j, y, tau) / derivative(t_j, y, tau))\n",
    "        if abs(y - y_prev) < eps:\n",
    "            return y\n",
    "\n",
    "\n",
    "def implicit_trapezium_method(t_j, y_j, tau, right_border):\n",
    "    \"\"\"Реализация неявного метода трапеций\"\"\"\n",
    "    while t_j <= right_border:\n",
    "        y_newton = newton_method(t_j, y_j, tau)\n",
    "        y_j += tau * (f(t_j, y_j) + f(t_j + tau, y_newton)) / 2\n",
    "        t_j += tau\n",
    "        yield y_j\n"
   ]
  },
  {
   "cell_type": "markdown",
   "id": "54eff3d2",
   "metadata": {},
   "source": [
    "### Метод Рунге-Кутты 4 порядка\n",
    "\n",
    "$(j+1)$-е приближение функции явным методом Рунге-Кутты 4 порядка находится из системы:\n",
    "\n",
    "\\begin{cases}\n",
    "y_{j + 1} = y_j + \\frac{\\tau}{6} \\cdot (k_1 + 2k_2 +2k_3 + k_4)\\\\\n",
    "k_1 = f(t_j, y_j)\\\\\n",
    "k_2 = f(t_j + \\frac{\\tau}{2}, y_j + \\frac{\\tau \\cdot k_1}{2})\\\\\n",
    "k_3 = f(t_j + \\frac{\\tau}{2}, y_j + \\frac{\\tau \\cdot k_2}{2})\\\\\n",
    "k_4 = f(t_j + \\tau, y_j + \\tau \\cdot k_3)\n",
    "\\end{cases}"
   ]
  },
  {
   "cell_type": "code",
   "execution_count": 4,
   "id": "dc89458f",
   "metadata": {},
   "outputs": [],
   "source": [
    "def k2(t, y, tau):\n",
    "    return f(t + tau / 2, y + tau * f(t, y) / 2)\n",
    "\n",
    "\n",
    "def k3(t, y, tau):\n",
    "    return f(t + tau / 2, y + tau * k2(t, y, tau) / 2)\n",
    "\n",
    "\n",
    "def k4(t, y, tau):\n",
    "    return f(t + tau, y + tau * k3(t, y, tau))\n",
    "\n",
    "\n",
    "def explicit_runge_kutta_method(t_j, y_j, tau, right_border):\n",
    "    while t_j <= right_border:\n",
    "        y_j += tau * (f(t_j, y_j) +\n",
    "                      2 * k2(t_j, y_j, tau) +\n",
    "                      2 * k3(t_j, y_j, tau) +\n",
    "                      k4(t_j, y_j, tau)) / 6\n",
    "        t_j += tau\n",
    "        yield y_j"
   ]
  },
  {
   "cell_type": "markdown",
   "id": "bf189241",
   "metadata": {},
   "source": [
    "### Явно-неявный метод Адамса 4 порядка\n",
    "\n",
    "Формула для интерполяционного метода Адамса 4-го порядка выглядит следующим образом:\n",
    "\n",
    "$$y_{j+1} = y_j + \\frac{\\tau}{24} \\cdot \\big(9f_{j+1} + 19f_j - 5f_{j-1} + f_{j-2} \\big),$$\n",
    "\n",
    "$$где\\ f_{j+1} = f(t_{j+1}, y_{j+1}),\\ ...$$\n",
    "\n",
    "Чтобы найти $f_{j+1}$, воспользуемся экстраполяционным методом Адамса 4-го порядка. Его рекуррентная формула выглядит так:\n",
    "\n",
    "$$y_{j+1} = y_j + \\frac{\\tau}{24} \\cdot \\big(55f_{j} - 59f_{j-1} + 37f_{j-2} - 9f_{j-3} \\big)$$\n",
    "\n",
    "Чтобы начать считать, $y_1, y_2\\ и\\ y_3$ получим методом Рунге-Кутты."
   ]
  },
  {
   "cell_type": "code",
   "execution_count": 5,
   "id": "ba1412d9",
   "metadata": {},
   "outputs": [],
   "source": [
    "def explicit_adams_method(t_j, y_j, y1, y2, y3, tau, right_border):\n",
    "    \"\"\"y3 is y[j - 3], y2 is y[j - 2] etc.\"\"\"\n",
    "    while t_j <= right_border:\n",
    "        y_j_prev = y_j\n",
    "        y_j += tau * (55 * f(t_j, y_j) -\n",
    "                      59 * f(t_j - tau, y1) +\n",
    "                      37 * f(t_j - 2 * tau, y2) -\n",
    "                      9 * f(t_j - 3 * tau, y3)) / 24\n",
    "        t_j += tau\n",
    "        y3 = y2\n",
    "        y2 = y1\n",
    "        y1 = y_j_prev\n",
    "        yield y_j\n",
    "\n",
    "\n",
    "def implicit_adams_method(t_j, y_j, tau, right_border):\n",
    "    i = 1\n",
    "    y3 = y_j\n",
    "    y2, y1, y_j = explicit_runge_kutta_method(t_j, y_j, tau, t_j + 3 * tau)\n",
    "    for y_adams in explicit_adams_method(\n",
    "            t_j + 3 * tau, y_j, y1, y2, y3, tau, right_border):\n",
    "        y_j_prev = y_j\n",
    "        y_j += tau * (9 * f(t_j + 3 * tau, y_adams) +\n",
    "                      19 * f(t_j + 2 * tau, y_j) -\n",
    "                      5 * f(t_j + tau, y1) +\n",
    "                      9 * f(t_j, y2)) / 24\n",
    "\n",
    "        yield y_j\n",
    "        t_j += tau\n",
    "        y2 = y1\n",
    "        y1 = y_j_prev\n",
    "        i += 1"
   ]
  },
  {
   "cell_type": "markdown",
   "id": "f9aa76c7",
   "metadata": {},
   "source": [
    "### Функции для оценки точности методов"
   ]
  },
  {
   "cell_type": "code",
   "execution_count": 6,
   "id": "df567a71",
   "metadata": {},
   "outputs": [],
   "source": [
    "import numpy as np\n",
    "\n",
    "\n",
    "t = np.arange(1.05, 2.05, 0.05)\n",
    "correct = np.array([correct_solution(t) for t in np.arange(1.05, 2.05, 0.05)])\n",
    "\n",
    "trap_exp = np.array(list(explicit_trapezium_method(1, 0.5, 0.05, 2)))\n",
    "trap_imp = np.array(list(implicit_trapezium_method(1, 0.5, 0.05, 2)))\n",
    "\n",
    "runge = np.array(list(explicit_runge_kutta_method(1, 0.5, 0.05, 2)))\n",
    "adams = np.array(list(implicit_adams_method(1, 0.5, 0.05, 2)))\n",
    "\n",
    "\n",
    "half_trap_exp = np.array(list(explicit_trapezium_method(1, 0.5, 0.1, 2)))\n",
    "half_trap_imp = np.array(list(implicit_trapezium_method(1, 0.5, 0.1, 2)))\n",
    "half_runge = np.array(list(explicit_runge_kutta_method(1, 0.5, 0.1, 2)))\n",
    "\n",
    "\n",
    "def abs_approximation_error(correct_sol, values):\n",
    "    \"\"\"Функция оценки точности (максимум модуля погрешности)\"\"\"\n",
    "    return max(abs(correct_sol - values))\n",
    "\n",
    "\n",
    "def runge_approximation_error(values, half_values, precision=1):\n",
    "    \"\"\"Функция оценки точности по правилу Рунге\"\"\"\n",
    "    return max(abs(half_values - values[1::2])) / (2^precision - 1)\n"
   ]
  },
  {
   "cell_type": "markdown",
   "id": "4c399e50",
   "metadata": {},
   "source": [
    "### График явного метода трапеций рядом с точным решением"
   ]
  },
  {
   "cell_type": "code",
   "execution_count": 7,
   "id": "c0d7e1c8",
   "metadata": {},
   "outputs": [
    {
     "data": {
      "image/png": "[encoded data removed]",
      "text/plain": [
       "<Figure size 1440x1080 with 1 Axes>"
      ]
     },
     "metadata": {
      "needs_background": "light"
     },
     "output_type": "display_data"
    }
   ],
   "source": [
    "from matplotlib import pyplot as plt\n",
    "\n",
    "\n",
    "fig, ax = plt.subplots(figsize=(20, 15))\n",
    "ax.plot(t, trap_exp, label='trapezium')\n",
    "ax.plot(t, correct, label='correct')\n",
    "\n",
    "ax.set_xlabel('t')\n",
    "ax.set_ylabel('u(t)')\n",
    "ax.set_title('Explicit trapezuim method and u(t)')\n",
    "ax.grid()\n",
    "ax.legend()\n",
    "plt.show()"
   ]
  },
  {
   "cell_type": "markdown",
   "id": "16b43515",
   "metadata": {},
   "source": [
    "<hr>\n",
    "\n",
    "# Сравнительная таблица методов\n"
   ]
  },
  {
   "cell_type": "markdown",
   "id": "2aa39e14",
   "metadata": {},
   "source": [
    "| j | $t_j$ | $u(t_j)$ | explicit trapezium | implicit trapezium | Runge-Kutta 4 | implicit Adams |\n",
    "| --- | --- | --- | --- | --- | --- | --- |\n",
    "| 1 | 1.05 | 0.53812767 | 0.53575874 | 0.53812908 | 0.53812765\n",
    "| 2 | 1.10 | 0.57752186 | 0.57266770 | 0.57752496 | 0.57752183\n",
    "| 3 | 1.15 | 0.61820045 | 0.61074205 | 0.61820552 | 0.61820040\n",
    "| 4 | 1.20 | 0.66018278 | 0.64999811 | 0.66019012 | 0.66018271 | 0.67653038\n",
    "| 5 | 1.25 | 0.70348958 | 0.69045333 | 0.70349950 | 0.70348950 | 0.73779281\n",
    "| 6 | 1.30 | 0.74814299 | 0.73212623 | 0.74815581 | 0.74814290 | 0.80175806\n",
    "| 7 | 1.35 | 0.79416651 | 0.77503645 | 0.79418257 | 0.79416640 | 0.86906081\n",
    "| 8 | 1.40 | 0.84158499 | 0.81920470 | 0.84160465 | 0.84158486 | 0.93983688\n",
    "| 9 | 1.45 | 0.89042468 | 0.86465276 | 0.89044832 | 0.89042453 | 1.01420964\n",
    "| 10 | 1.50 | 0.94071319 | 0.91140355 | 0.94074120 | 0.94071302 | 1.09232866\n",
    "| 11 | 1.55 | 0.99247952 | 0.95948104 | 0.99251232 | 0.99247934 | 1.17435396\n",
    "| 12 | 1.60 | 1.04575411 | 1.00891037 | 1.04579214 | 1.04575391 | 1.26045563\n",
    "| 13 | 1.65 | 1.10056884 | 1.05971777 | 1.10061256 | 1.10056861 | 1.35081518\n",
    "| 14 | 1.70 | 1.15695705 | 1.11193067 | 1.15700695 | 1.15695680 | 1.44562641\n",
    "| 15 | 1.75 | 1.21495361 | 1.16557765 | 1.21501020 | 1.21495334 | 1.54509626\n",
    "| 16 | 1.80 | 1.27459496 | 1.22068855 | 1.27465879 | 1.27459466 | 1.64944589\n",
    "| 17 | 1.85 | 1.33591913 | 1.27729440 | 1.33599078 | 1.33591881 | 1.75891182\n",
    "| 18 | 1.90 | 1.39896583 | 1.33542757 | 1.39904589 | 1.39896547 | 1.87374711\n",
    "| 19 | 1.95 | 1.46377646 | 1.39512171 | 1.46386558 | 1.46377607 | 1.99422283\n",
    "| 20 | 2.00 | 1.53039422 | 1.45641186 | 1.53049308 | 1.53039381 | 2.12062952\n",
    "| --- | --- | --- | --- | --- | --- | --- |\n",
    "|  |  | 0 | 7.4e-2 | 9.9e-5 | 4.1e-7 | 5.9e-1\n",
    "|  |  |  | 3.1e-2 | 9.5e-5 | 5.8e-6 |\n",
    "\n",
    "<b>Примечание:</b> в предпоследней строке вычислено значение $max |u(t_j) - y_j|$ для каждого из методов, а в последней — $max\\frac{|y_j^{\\tau/2}-y_j^{\\tau}|}{2^p - 1}$."
   ]
  },
  {
   "cell_type": "markdown",
   "id": "d9d4062f",
   "metadata": {},
   "source": [
    "# Выводы"
   ]
  },
  {
   "cell_type": "markdown",
   "id": "f646d1aa",
   "metadata": {},
   "source": [
    "По сравнению с явным методом трапеций, неявный метод продемонстрировал более высокую точность приближения (что, в целом, было ожидаемо, с учётом разных степеней точности методов). Явный метод Рунге-Кутты 4 порядка, ожидаемо, позволил получить ещё более близкое к точному решению приближение. Интерполяционный метод Адамса, несмотря на многошаговость и сложность реализации, показал гораздо худший результат, чем любой из одношаговых методов."
   ]
  }
 ],
 "metadata": {
  "kernelspec": {
   "display_name": "Python 3 (ipykernel)",
   "language": "python",
   "name": "python3"
  },
  "language_info": {
   "codemirror_mode": {
    "name": "ipython",
    "version": 3
   },
   "file_extension": ".py",
   "mimetype": "text/x-python",
   "name": "python",
   "nbconvert_exporter": "python",
   "pygments_lexer": "ipython3",
   "version": "3.8.10"
  }
 },
 "nbformat": 4,
 "nbformat_minor": 5
}
