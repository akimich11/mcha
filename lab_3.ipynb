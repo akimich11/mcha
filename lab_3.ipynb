{
 "cells": [
  {
   "cell_type": "markdown",
   "id": "ffe134b8",
   "metadata": {},
   "source": [
    "# Постановка задачи\n",
    "\n",
    "Дана линейная граничная задача. Необходимо на равномерной сетке построить для граничной задачи разностную схему второго порядка аппроксимации на минимальном шаблоне и с помощью метода прогонки с шагами $h=0.02$ и $h/2=0.01$ найти численное решение $y^h$ и $y^{h/2}$ соответственно. Проверить выполняются ли достаточные условия корректности и устойчивости метода прогонки. Сравнить найденное численное решение $y^{h/2}$ с точным решением $u(x)$ , т.е. найти $max|u(x_i) - y^{h/2}_i|$. \n",
    "\n",
    "В одной системе координат построить график функции $u(x)$ и график полученного численного решения $y^{h/2}$. \n",
    "\n",
    "Найти $\\frac{1}{3} \\cdot max|y^h_i - y^{h/2}_{2i}|$.\n",
    "\n",
    "### Граничная задача\n",
    "\\begin{cases}\n",
    "u'' + \\frac{3x}{x^2 + 1}u' - \\frac{2}{x^2 + 1}u = -\\frac{4x^2 + 8}{(x^2 + 1)^3}\\\\\n",
    "5u(0.5)=8\\\\\n",
    "3u(1) + 2u'(1) = 1\n",
    "\\end{cases}\n",
    "\n",
    "### Точное решение\n",
    "$$u(x)=\\frac{2}{x^2 + 1}$$"
   ]
  },
  {
   "cell_type": "code",
   "execution_count": 1,
   "id": "33cde381",
   "metadata": {},
   "outputs": [],
   "source": [
    "def f(x):\n",
    "    return -((4 * x ** 2 + 8) / ((x ** 2 + 1) ** 3))\n",
    "\n",
    "\n",
    "def p(x):\n",
    "    return (3 * x) / (x ** 2 + 1)\n",
    "\n",
    "\n",
    "def q(x):\n",
    "    return -2 / (x ** 2 + 1)\n",
    "\n",
    "\n",
    "def solution(x):\n",
    "    return 2 / (x ** 2 + 1)\n",
    "\n",
    "\n",
    "a, b = 0.5, 1\n",
    "h, h2 = 0.02, 0.01"
   ]
  },
  {
   "cell_type": "markdown",
   "id": "982c5c17",
   "metadata": {},
   "source": [
    "<hr>\n",
    "\n",
    "# Краткая теория, реализация метода\n",
    "\n",
    "Задача в общем виде:\n",
    "\n",
    "\\begin{cases}\n",
    "u''(x) + p(x)u'(x) + q(x)u(x) = f(x)\\\\\n",
    "u(0.5) = \\sigma_0\\\\\n",
    "u(1) = \\sigma_1y(1)+\\mu_1,\n",
    "\\end{cases}\n",
    "\n",
    "Сетка узлов:\n",
    "\n",
    "$$w_h = \\{ x_i = 0.5 + ih, i=0...N, N = \\frac{b - a}{h} \\}$$\n",
    "\n",
    "Разностная схема второго порядка аппроксимации:\n",
    "\n",
    "\\begin{cases}\n",
    "y_{\\overline{x}x}(x) + p(x)y_\\overset{\\circ}{x}(x) + q(x)y(x) = \\varphi(x)\\\\\n",
    "y(0) = \\mu_0\\\\\n",
    "y_\\overline{x}(1) = \\sigma_1y(1)+\\mu_1,\n",
    "\\end{cases}\n",
    "\n",
    "\n",
    "Индексная форма:\n",
    "\n",
    "\\begin{cases}\n",
    "\\frac{y_{i+1}-2y_i+y_{i-1}}{h^2} + \\frac{3x_i}{x_i^2 + 1} \\frac{y_{i + 1} - y_{i - 1}}{2h} - \\frac{2}{x_i^2 + 1} y_i = -\\frac{4x^2_i + 8}{(x_i^2+1)^3}\\\\\n",
    "y_0 = \\frac{8}{5}\\\\\n",
    "\\frac{y_N - y_{N - 1}}{h} = (-\\frac{3}{2} - \\frac{13h}{8})y_N + \\frac{1}{2} + \\frac{9h}{8}\n",
    "\\end{cases}\n",
    "\n",
    "Система уравнений (трёхдиагональная матрица):\n",
    "\n",
    "\\begin{cases}\n",
    "y_{i+1}(\\frac{1}{h^2} + \\frac{3x_i}{x_i^2 + 1} \\frac{1}{2h}) + y_i(\\frac{-2}{h^2} - \\frac{2}{x_i^2 + 1}) + y_{i - 1}(\\frac{1}{h^2} + \\frac{3x_i}{x_i^2 + 1} \\frac{1}{2h}) = -\\frac{4x^2_i + 8}{(x_i^2+1)^3}\\\\\n",
    "y_0 = \\frac{8}{5}\\\\\n",
    "y_N(\\frac{1}{h} + \\frac{3}{2} + \\frac{13h}{8}) + y_{N-1}(\\frac{-1}{h}) = \\frac{1}{2} + \\frac{9h}{8}\n",
    "\\end{cases}"
   ]
  },
  {
   "cell_type": "code",
   "execution_count": 2,
   "id": "b263fbd8",
   "metadata": {
    "scrolled": true
   },
   "outputs": [],
   "source": [
    "import numpy as np\n",
    "\n",
    "\n",
    "def get_diagonals(h):\n",
    "    N = int(round((b - a) / h))\n",
    "    x = np.linspace(a, b, N + 1)\n",
    "    b0, c0 = 1, 0\n",
    "    aN = -1 / h\n",
    "    bN = 1 / h + 3 / 2 + 13 * h / 8\n",
    "    \n",
    "    c_d = np.zeros(N + 1)\n",
    "    c_d[0] = c0\n",
    "    for i in range(1, N):\n",
    "        c_d[i] = 1 / (h ** 2) + p(x[i]) / (2 * h)\n",
    "    \n",
    "    b_d = np.zeros(N + 1)\n",
    "    b_d[0] = b0\n",
    "    b_d[N] = bN\n",
    "    for i in range(1, N):\n",
    "        b_d[i] = -2 / (h ** 2) + q(x[i])\n",
    "\n",
    "    a_d = np.zeros(N + 1)\n",
    "    a_d[N] = aN\n",
    "    for i in range(1, N):\n",
    "        a_d[i] = 1 / (h ** 2) - p(x[i]) / (2 * h)\n",
    "    \n",
    "    return a_d, b_d, c_d\n",
    "\n",
    "\n",
    "def get_column(h):\n",
    "    N = int(round((b - a) / h))\n",
    "    x = np.linspace(a, b, N + 1)\n",
    "    return np.array([8 / 5, *[f(x[i]) for i in range(1, N)], 1 / 2 + 9 * h / 8])\n",
    "\n",
    "\n",
    "def get_exact_solution_vector(h):\n",
    "    N = int(round((b - a) / h))\n",
    "    x = np.linspace(a, b, N + 1)\n",
    "    return np.array([solution(x[i]) for i in range(N + 1)])\n",
    "\n",
    "\n",
    "def solve_tridiagonal_system(diagonals, f):\n",
    "    n = len(f)\n",
    "    res = np.zeros(n)\n",
    "\n",
    "    for i in range(n - 1):\n",
    "        coef = diagonals[0][i + 1] / diagonals[1][i]\n",
    "        diagonals[0][i + 1] = 0\n",
    "        diagonals[1][i + 1] -= coef * diagonals[2][i]\n",
    "        f[i + 1] -= coef * f[i]\n",
    "\n",
    "    for i in range(n - 1, 0, -1):\n",
    "        res[i] = f[i] / diagonals[1][i]\n",
    "        coef = diagonals[2][i - 1] / diagonals[1][i]\n",
    "        diagonals[2][i - 1] = 0\n",
    "        f[i - 1] -= coef * f[i]\n",
    "        res[0] = f[0] / diagonals[1][0]\n",
    "    return res\n",
    "\n",
    "\n",
    "def is_diag_dominant(diagonals):\n",
    "    return all([abs(b_diag) >= abs(a_diag) + abs(c_diag) for a_diag, b_diag, c_diag in zip(*diagonals)])\n",
    "\n",
    "\n",
    "def get_solution(h):\n",
    "    N = int(round((b - a) / h))\n",
    "    x = np.linspace(a, b, N + 1)\n",
    "    diagonals = get_diagonals(h)\n",
    "    f = get_column(h)\n",
    "    if(is_diag_dominant(diagonals)):\n",
    "        u = solve_tridiagonal_system(diagonals, f)\n",
    "        return u\n",
    "    raise ValueError(\"Нет диагонального преобладания\")\n",
    "\n",
    "\n",
    "u = get_exact_solution_vector(h2)\n",
    "y = get_solution(h)\n",
    "y2 = get_solution(h2)"
   ]
  },
  {
   "cell_type": "markdown",
   "id": "a4b4bb0b",
   "metadata": {},
   "source": [
    "### Оценка точности метода"
   ]
  },
  {
   "cell_type": "code",
   "execution_count": 3,
   "id": "39d4c77e",
   "metadata": {},
   "outputs": [
    {
     "data": {
      "text/plain": [
       "4.6152838664159646e-06"
      ]
     },
     "execution_count": 3,
     "metadata": {},
     "output_type": "execute_result"
    }
   ],
   "source": [
    "np.array(abs(u - y2)).max()"
   ]
  },
  {
   "cell_type": "code",
   "execution_count": 4,
   "id": "01b3f8db",
   "metadata": {},
   "outputs": [
    {
     "data": {
      "text/plain": [
       "4.615511669821733e-06"
      ]
     },
     "execution_count": 4,
     "metadata": {},
     "output_type": "execute_result"
    }
   ],
   "source": [
    "1 / 3 * np.array(abs(y - y2[::2])).max()"
   ]
  },
  {
   "cell_type": "markdown",
   "id": "9b85144d",
   "metadata": {},
   "source": [
    "### График метода сеток рядом с точным решением"
   ]
  },
  {
   "cell_type": "code",
   "execution_count": 5,
   "id": "e78bf60e",
   "metadata": {},
   "outputs": [
    {
     "data": {
      "image/png": "[encoded data removed]",
      "text/plain": [
       "<Figure size 1440x720 with 1 Axes>"
      ]
     },
     "metadata": {
      "needs_background": "light"
     },
     "output_type": "display_data"
    }
   ],
   "source": [
    "from matplotlib import pyplot as plt\n",
    "\n",
    "\n",
    "x = np.linspace(a, b, int(round((b - a) / h2)) + 1)\n",
    "plt.figure(figsize=(20, 10))\n",
    "plt.plot(x, u, label='u(x) (точное решение)')\n",
    "plt.plot(x, y2, '.', label='y (решение методом сеток)', markersize=8)\n",
    "plt.legend()\n",
    "plt.show()"
   ]
  },
  {
   "cell_type": "markdown",
   "id": "3b0e2cc5",
   "metadata": {},
   "source": [
    "# Выводы"
   ]
  },
  {
   "cell_type": "markdown",
   "id": "cfe3aff7",
   "metadata": {},
   "source": [
    "Метод сеток — достаточно эффективный метод решения обыкновенных дифференциальных уравнений второго порядка, обеспечивающий адекватную точность приближённого решения."
   ]
  }
 ],
 "metadata": {
  "kernelspec": {
   "display_name": "Python 3 (ipykernel)",
   "language": "python",
   "name": "python3"
  },
  "language_info": {
   "codemirror_mode": {
    "name": "ipython",
    "version": 3
   },
   "file_extension": ".py",
   "mimetype": "text/x-python",
   "name": "python",
   "nbconvert_exporter": "python",
   "pygments_lexer": "ipython3",
   "version": "3.8.10"
  }
 },
 "nbformat": 4,
 "nbformat_minor": 5
}
